{
  "nbformat": 4,
  "nbformat_minor": 0,
  "metadata": {
    "colab": {
      "provenance": [],
      "authorship_tag": "ABX9TyOj9sYK8uqET7N2dg7Wi6KL",
      "include_colab_link": true
    },
    "kernelspec": {
      "name": "python3",
      "display_name": "Python 3"
    },
    "language_info": {
      "name": "python"
    }
  },
  "cells": [
    {
      "cell_type": "markdown",
      "metadata": {
        "id": "view-in-github",
        "colab_type": "text"
      },
      "source": [
        "<a href=\"https://colab.research.google.com/github/ayhanardal/digit-recognizer/blob/main/digit_recognizer.ipynb\" target=\"_parent\"><img src=\"https://colab.research.google.com/assets/colab-badge.svg\" alt=\"Open In Colab\"/></a>"
      ]
    },
    {
      "cell_type": "markdown",
      "source": [
        "# Library & Data Import"
      ],
      "metadata": {
        "id": "IFsA5RrNYhnT"
      }
    },
    {
      "cell_type": "code",
      "execution_count": 1,
      "metadata": {
        "colab": {
          "base_uri": "https://localhost:8080/"
        },
        "id": "Ph1LpS2jHeFk",
        "outputId": "0762b546-49ec-4182-efb0-718c7743ba80"
      },
      "outputs": [
        {
          "output_type": "stream",
          "name": "stdout",
          "text": [
            "Mounted at /content/gdrive\n"
          ]
        }
      ],
      "source": [
        "from google.colab import drive\n",
        "drive.mount('/content/gdrive', force_remount = True)"
      ]
    },
    {
      "cell_type": "code",
      "source": [
        "import numpy as np\n",
        "import pandas as pd\n",
        "from matplotlib import pyplot as plt"
      ],
      "metadata": {
        "id": "0yLYGK9LIRjF"
      },
      "execution_count": 2,
      "outputs": []
    },
    {
      "cell_type": "code",
      "source": [
        "test = pd.read_csv('/content/gdrive/MyDrive/Colab Notebooks/Data/Digit Recognizer/test.csv')\n",
        "train = pd.read_csv('/content/gdrive/MyDrive/Colab Notebooks/Data/Digit Recognizer/train.csv')\n",
        "test_df = test.copy()\n",
        "train_df = train.copy()"
      ],
      "metadata": {
        "id": "TDKVHbreISDt"
      },
      "execution_count": 3,
      "outputs": []
    },
    {
      "cell_type": "code",
      "source": [
        "data = np.array(train_df)\n",
        "test_data = np.array(test_df)\n",
        "m, n = data.shape\n",
        "np.random.shuffle(data)\n",
        "\n",
        "test_df = test_df / 255.\n",
        "\n",
        "data_dev = data[0:1000].T\n",
        "Y_dev = data_dev[0]\n",
        "X_dev = data_dev[1:n]\n",
        "X_dev = X_dev / 255.\n",
        "\n",
        "data_train = data[1000:m].T\n",
        "Y_train = data_train[0]\n",
        "X_train = data_train[1:n]\n",
        "X_train = X_train / 255.\n",
        "_, m_train = X_train.shape"
      ],
      "metadata": {
        "id": "k8DXr0cmJPL2"
      },
      "execution_count": 4,
      "outputs": []
    },
    {
      "cell_type": "markdown",
      "source": [
        "# Model"
      ],
      "metadata": {
        "id": "XSX4bKYkYmch"
      }
    },
    {
      "cell_type": "code",
      "source": [
        "def init_params():\n",
        "  W1 = np.random.rand(10,784) - 0.5\n",
        "  b1 = np.random.rand(10,1) - 0.5\n",
        "  W2 = np.random.rand(10,10) - 0.5\n",
        "  b2 = np.random.rand(10,1) - 0.5\n",
        "  return W1, b1, W2, b2\n",
        "\n",
        "def ReLU(Z):\n",
        "  return np.maximum(Z, 0)\n",
        "\n",
        "def softmax(Z):\n",
        "  A = np.exp(Z) / sum(np.exp(Z))\n",
        "  return A\n",
        "\n",
        "def forward_prob(W1, b1, W2, b2, X):\n",
        "  Z1 = W1.dot(X) + b1\n",
        "  A1 = ReLU(Z1)\n",
        "  Z2 = W2.dot(A1) + b2\n",
        "  A2 = softmax(Z2)\n",
        "  return Z1, A1, Z2, A2\n",
        "\n",
        "def one_hot(Y):\n",
        "  one_hot_Y = np.zeros((Y.size, Y.max() + 1))\n",
        "  one_hot_Y[np.arange(Y.size), Y] = 1\n",
        "  one_hot_Y = one_hot_Y.T\n",
        "  return one_hot_Y\n",
        "\n",
        "def deriv_ReLU(Z):\n",
        "  return Z > 0\n",
        "\n",
        "def back_prob(Z1, A1, Z2, A2, W1, W2, X, Y):\n",
        "  one_hot_Y = one_hot(Y)\n",
        "  dZ2 = A2 - one_hot_Y\n",
        "  dW2 = 1 / m * dZ2.dot(A1.T)\n",
        "  db2 = 1 / m * np.sum(dZ2)\n",
        "  dZ1 = W2.T.dot(dZ2) * deriv_ReLU(Z1)\n",
        "  dW1 = 1 / m * dZ1.dot(X.T)\n",
        "  db1 = 1 / m * np.sum(dZ1)\n",
        "  return dW1, db1, dW2, db2\n",
        "\n",
        "def update_params(W1, b1, W2, b2, dW1, db1, dW2, db2, alpha):\n",
        "  W1 = W1 - alpha * dW1\n",
        "  b1 = b1 - alpha * db1\n",
        "  W2 = W2 - alpha * dW2\n",
        "  b2 = b2 - alpha * db2\n",
        "  return W1, b1, W2, b2\n"
      ],
      "metadata": {
        "id": "XExk7piwLdt7"
      },
      "execution_count": 5,
      "outputs": []
    },
    {
      "cell_type": "code",
      "source": [
        "def get_prediction(A2):\n",
        "  return np.argmax(A2, 0)\n",
        "\n",
        "def get_accuracy(predictions, Y):\n",
        "  print(predictions, Y)\n",
        "  return np.sum(predictions == Y) / Y.size\n",
        "\n",
        "def gradient_descent(X, Y, alpha, iterations):\n",
        "  W1, b1, W2, b2 = init_params()\n",
        "  for i in range(iterations):\n",
        "    Z1, A1, Z2, A2 = forward_prob(W1, b1, W2, b2, X)\n",
        "    dW1, db1, dW2, db2 = back_prob(Z1, A1, Z2, A2, W1, W2, X, Y)\n",
        "    W1, b1, W2, b2 = update_params(W1, b1, W2, b2, dW1, db1, dW2, db2, alpha)\n",
        "    if i % 250 == 0:\n",
        "      print('itrations :', i)\n",
        "      predictions = get_prediction(A2)\n",
        "      print('accuracy:', get_accuracy(predictions,Y))\n",
        "\n",
        "  return W1, b1, W2, b2"
      ],
      "metadata": {
        "id": "7D3AS_l2SFD8"
      },
      "execution_count": 6,
      "outputs": []
    },
    {
      "cell_type": "code",
      "source": [
        "W1, b1, W2, b2 = gradient_descent(X_train, Y_train, 0.10, 2000)"
      ],
      "metadata": {
        "colab": {
          "base_uri": "https://localhost:8080/"
        },
        "id": "1DEZ_qWmTjjS",
        "outputId": "b75962e3-f8f3-4bf5-9c55-7c070f950202"
      },
      "execution_count": 7,
      "outputs": [
        {
          "output_type": "stream",
          "name": "stdout",
          "text": [
            "itrations : 0\n",
            "[8 4 9 ... 6 4 6] [5 6 7 ... 0 6 9]\n",
            "accuracy: 0.09107317073170731\n",
            "itrations : 250\n",
            "[5 6 7 ... 0 6 9] [5 6 7 ... 0 6 9]\n",
            "accuracy: 0.7988048780487805\n",
            "itrations : 500\n",
            "[5 6 7 ... 0 6 9] [5 6 7 ... 0 6 9]\n",
            "accuracy: 0.852609756097561\n",
            "itrations : 750\n",
            "[5 6 7 ... 0 6 9] [5 6 7 ... 0 6 9]\n",
            "accuracy: 0.8718780487804878\n",
            "itrations : 1000\n",
            "[5 6 7 ... 0 6 9] [5 6 7 ... 0 6 9]\n",
            "accuracy: 0.8826341463414634\n",
            "itrations : 1250\n",
            "[5 6 7 ... 0 6 9] [5 6 7 ... 0 6 9]\n",
            "accuracy: 0.8902439024390244\n",
            "itrations : 1500\n",
            "[5 6 7 ... 0 6 9] [5 6 7 ... 0 6 9]\n",
            "accuracy: 0.8961951219512195\n",
            "itrations : 1750\n",
            "[5 6 7 ... 0 6 9] [5 6 7 ... 0 6 9]\n",
            "accuracy: 0.9003658536585366\n"
          ]
        }
      ]
    },
    {
      "cell_type": "code",
      "source": [
        "def make_predictions(X, W1, b1, W2, b2):\n",
        "  _, _, _, A2 = forward_prob(W1, b1, W2, b2, X)\n",
        "  predictions = get_prediction(A2)\n",
        "  return predictions\n",
        "\n",
        "def test_prediction(index, W1, b1, W2, b2):\n",
        "  current_image = X_train[:, index, None]\n",
        "  prediction = make_predictions(X_train[:, index, None], W1, b1, W2, b2)\n",
        "  label = Y_train[index]\n",
        "  print('Prediction:', prediction)\n",
        "  print('Label:', label)\n",
        "\n",
        "  current_image = current_image.reshape((28,28)) * 255\n",
        "  plt.gray()\n",
        "  plt.imshow(current_image, interpolation = 'nearest')\n",
        "  plt.show()"
      ],
      "metadata": {
        "id": "sZJNu2YPANQM"
      },
      "execution_count": 8,
      "outputs": []
    },
    {
      "cell_type": "markdown",
      "source": [
        "# Predicts & Results"
      ],
      "metadata": {
        "id": "EQvPtEVaYsQh"
      }
    },
    {
      "cell_type": "code",
      "source": [
        "test_prediction(50 ,W1, b1, W2, b2)\n",
        "test_prediction(3 ,W1, b1, W2, b2)\n",
        "test_prediction(200 ,W1, b1, W2, b2)\n",
        "test_prediction(10 ,W1, b1, W2, b2)"
      ],
      "metadata": {
        "colab": {
          "base_uri": "https://localhost:8080/",
          "height": 1000
        },
        "id": "FwJrBf_FBMqT",
        "outputId": "dac9fed2-860a-45f7-809f-11d8c38f063c"
      },
      "execution_count": 9,
      "outputs": [
        {
          "output_type": "stream",
          "name": "stdout",
          "text": [
            "Prediction: [9]\n",
            "Label: 9\n"
          ]
        },
        {
          "output_type": "display_data",
          "data": {
            "text/plain": [
              "<Figure size 640x480 with 1 Axes>"
            ],
            "image/png": "[encoded data removed]"
          },
          "metadata": {}
        },
        {
          "output_type": "stream",
          "name": "stdout",
          "text": [
            "Prediction: [6]\n",
            "Label: 6\n"
          ]
        },
        {
          "output_type": "display_data",
          "data": {
            "text/plain": [
              "<Figure size 640x480 with 1 Axes>"
            ],
            "image/png": "[encoded data removed]"
          },
          "metadata": {}
        },
        {
          "output_type": "stream",
          "name": "stdout",
          "text": [
            "Prediction: [8]\n",
            "Label: 5\n"
          ]
        },
        {
          "output_type": "display_data",
          "data": {
            "text/plain": [
              "<Figure size 640x480 with 1 Axes>"
            ],
            "image/png": "[encoded data removed]"
          },
          "metadata": {}
        },
        {
          "output_type": "stream",
          "name": "stdout",
          "text": [
            "Prediction: [4]\n",
            "Label: 4\n"
          ]
        },
        {
          "output_type": "display_data",
          "data": {
            "text/plain": [
              "<Figure size 640x480 with 1 Axes>"
            ],
            "image/png": "[encoded data removed]"
          },
          "metadata": {}
        }
      ]
    },
    {
      "cell_type": "code",
      "source": [
        "dev_predictions = make_predictions(X_dev, W1, b1, W2, b2)\n",
        "get_accuracy(dev_predictions, Y_dev)"
      ],
      "metadata": {
        "colab": {
          "base_uri": "https://localhost:8080/"
        },
        "id": "IQFwJ7A5CoK-",
        "outputId": "e2974d03-3e47-4a3c-b78d-ac272d5430bf"
      },
      "execution_count": 10,
      "outputs": [
        {
          "output_type": "stream",
          "name": "stdout",
          "text": [
            "[1 1 2 1 1 1 9 8 2 3 9 6 5 2 4 4 4 9 3 1 3 7 2 2 3 1 0 8 2 1 3 9 5 9 0 4 5\n",
            " 2 7 1 4 6 4 5 5 3 2 6 6 8 9 1 2 6 5 2 9 7 6 3 9 0 9 9 3 9 4 9 3 1 7 4 6 6\n",
            " 5 3 1 1 6 5 9 3 7 5 5 9 2 6 1 1 1 5 5 3 4 8 6 3 6 6 3 0 6 1 4 6 6 1 8 0 0\n",
            " 3 9 4 4 7 7 2 5 6 1 8 5 6 8 2 9 8 4 0 5 2 6 4 6 9 7 9 4 0 3 1 6 0 4 7 6 1\n",
            " 2 5 4 1 4 0 6 6 7 1 6 4 4 1 9 3 1 8 4 6 4 9 9 0 0 0 7 7 0 2 6 8 3 7 6 0 6\n",
            " 9 1 6 1 7 5 9 3 7 4 5 3 3 0 8 6 9 1 9 4 6 3 8 0 1 3 2 3 9 9 5 1 7 8 3 3 8\n",
            " 3 2 2 7 8 7 8 0 6 6 3 7 4 0 7 0 6 9 4 6 9 5 7 5 7 7 4 4 8 6 5 0 5 7 7 9 1\n",
            " 9 9 0 7 7 7 7 9 1 8 5 3 9 1 3 9 4 4 8 4 2 7 1 5 9 1 4 1 6 5 9 1 4 8 3 6 7\n",
            " 1 6 7 8 1 8 1 5 8 6 1 9 6 4 1 2 4 5 2 8 7 2 9 0 5 4 5 5 9 6 9 4 8 2 9 7 6\n",
            " 4 1 4 1 5 5 6 7 7 4 5 7 3 6 9 4 5 5 2 4 9 6 6 1 7 0 3 3 7 3 0 4 7 0 0 4 7\n",
            " 8 3 9 1 6 1 7 1 9 1 3 2 7 2 0 9 4 7 6 7 4 0 9 3 4 8 7 7 8 3 3 9 5 9 9 3 3\n",
            " 1 7 1 2 1 3 9 8 3 3 0 4 6 8 2 2 3 4 7 6 6 2 6 6 3 9 4 0 1 3 6 6 5 9 2 5 6\n",
            " 2 4 6 1 7 6 8 7 9 1 3 3 5 5 8 2 1 0 2 9 3 7 4 0 2 0 6 1 7 0 1 7 9 6 8 0 5\n",
            " 4 7 3 7 1 1 3 3 4 1 8 3 6 5 1 9 8 4 6 3 8 9 4 8 8 7 9 4 8 1 0 3 0 4 9 3 1\n",
            " 3 1 1 8 9 3 5 7 7 7 0 2 3 1 6 7 9 4 6 2 8 1 3 5 9 8 8 7 0 4 1 6 3 9 9 6 8\n",
            " 3 7 8 8 0 1 3 5 1 7 2 9 7 3 6 8 2 9 0 2 4 3 5 4 8 9 5 8 9 7 0 3 7 3 3 2 4\n",
            " 9 7 3 1 6 9 2 2 4 3 0 5 4 8 8 7 9 4 7 2 8 3 8 5 7 5 5 2 2 7 6 7 0 0 2 5 0\n",
            " 9 0 3 8 6 4 9 9 3 0 1 9 5 3 1 1 4 3 1 6 3 7 6 5 4 1 0 3 6 0 1 6 4 0 0 6 0\n",
            " 1 7 4 8 4 8 0 9 8 8 2 3 8 3 2 9 4 2 5 4 1 2 3 9 4 1 8 2 2 3 7 9 9 5 0 1 1\n",
            " 8 3 4 4 4 4 5 1 6 5 4 0 7 3 1 7 2 4 6 4 3 7 6 8 4 3 9 4 8 7 7 1 6 3 3 9 8\n",
            " 0 5 2 5 9 9 0 9 9 6 0 6 8 5 5 2 8 8 5 8 1 3 2 9 0 9 4 4 8 2 5 2 9 3 8 5 1\n",
            " 3 1 2 1 2 7 5 3 1 8 6 2 5 9 0 4 4 6 6 8 8 3 3 5 5 7 6 4 1 0 2 4 8 9 6 0 9\n",
            " 6 1 6 7 1 0 6 1 5 7 9 3 3 6 0 6 4 7 7 8 5 9 8 7 2 9 1 8 1 8 6 6 5 2 2 0 4\n",
            " 5 0 8 9 2 8 6 3 5 7 0 1 8 5 6 1 8 7 9 6 0 1 8 5 7 8 6 6 7 7 1 9 4 9 1 0 6\n",
            " 4 1 9 1 6 5 5 8 6 0 5 3 9 2 0 4 7 9 2 7 3 8 2 0 5 9 1 3 3 8 9 8 9 7 5 5 1\n",
            " 1 9 1 4 2 1 7 5 4 6 8 9 5 1 9 1 7 3 2 4 6 8 0 3 7 5 7 8 0 3 1 5 8 1 1 8 8\n",
            " 7 7 3 3 6 8 0 3 6 3 3 3 3 8 6 2 8 9 7 2 3 3 2 1 7 8 0 3 7 0 2 5 4 7 3 9 0\n",
            " 2] [1 1 2 1 1 1 9 8 2 9 9 5 8 2 4 4 4 9 3 1 3 7 2 2 3 1 0 8 2 1 3 9 5 9 0 4 5\n",
            " 2 7 1 4 6 4 5 5 3 2 6 6 8 9 1 2 6 1 2 9 7 6 3 9 0 9 9 3 9 4 9 3 1 7 5 6 6\n",
            " 5 3 1 1 6 3 9 3 7 5 5 9 5 6 1 1 1 5 5 3 4 8 6 5 6 6 3 0 6 1 4 8 6 1 5 0 0\n",
            " 3 9 4 4 7 7 2 5 6 1 8 5 6 8 2 9 8 4 0 5 2 6 4 6 9 7 9 4 0 3 1 6 0 4 7 6 1\n",
            " 6 5 4 1 4 0 6 6 7 1 6 9 8 1 9 3 1 8 4 6 7 9 9 0 0 0 7 7 0 2 6 8 3 7 6 0 6\n",
            " 9 1 6 1 7 5 9 3 7 4 5 3 3 0 8 6 9 1 9 4 6 3 8 0 1 3 2 3 9 9 3 1 7 8 3 3 8\n",
            " 5 2 2 7 8 7 8 0 6 6 3 7 4 0 7 0 6 9 4 6 9 5 7 3 7 7 4 4 8 3 5 0 5 9 7 9 1\n",
            " 9 9 0 7 2 7 7 9 1 8 5 3 9 1 3 9 4 4 8 4 2 7 1 5 9 1 4 1 6 5 9 1 4 8 3 8 7\n",
            " 1 6 7 8 1 8 1 5 2 6 1 9 6 4 1 2 4 5 2 8 3 2 9 0 5 4 5 5 9 6 9 4 8 3 9 7 6\n",
            " 4 1 4 1 8 5 6 7 1 4 5 7 3 6 9 4 5 5 2 4 9 6 6 1 7 0 8 3 7 3 0 4 7 0 0 4 7\n",
            " 8 2 9 1 6 1 7 1 9 1 3 2 7 2 0 4 4 7 6 7 4 0 9 3 4 8 7 7 8 3 3 9 5 9 9 3 5\n",
            " 1 7 1 2 1 3 9 8 3 3 0 4 6 8 2 2 5 4 7 6 6 2 6 6 3 9 4 0 1 3 6 3 5 9 2 5 6\n",
            " 2 4 6 1 7 6 8 7 9 1 1 3 5 5 2 2 1 0 2 9 3 7 4 0 2 0 6 1 7 0 1 7 9 6 8 0 5\n",
            " 4 7 3 7 1 1 3 3 4 1 8 3 4 5 1 9 8 4 6 3 8 4 4 8 8 7 2 4 8 1 0 3 0 4 8 3 1\n",
            " 5 1 1 8 9 3 5 7 7 7 0 2 3 1 6 7 9 4 6 2 3 1 8 5 9 8 9 7 0 4 1 6 3 9 9 6 8\n",
            " 9 7 8 8 0 1 3 5 1 9 2 7 7 3 5 8 2 9 0 2 4 3 8 4 8 9 5 8 9 7 0 3 7 3 3 2 4\n",
            " 9 3 3 1 3 9 2 3 4 3 0 5 4 1 8 7 7 4 7 2 8 3 8 5 7 5 5 8 2 7 6 7 0 0 2 5 0\n",
            " 9 0 3 3 6 4 9 9 3 0 1 8 5 3 1 1 4 3 1 6 3 9 6 3 4 1 0 3 6 0 1 6 4 0 0 6 0\n",
            " 1 7 4 8 4 8 0 9 8 8 2 3 2 3 2 9 4 3 5 5 1 2 3 9 4 1 8 6 2 3 7 9 9 3 0 1 1\n",
            " 8 3 4 4 4 4 5 1 6 5 4 0 7 3 1 7 2 4 6 4 3 7 6 8 4 5 3 4 8 7 7 1 6 3 3 9 8\n",
            " 0 5 2 5 9 9 0 9 9 6 0 6 8 5 7 2 3 8 5 8 1 3 2 5 0 9 4 4 8 2 8 2 9 3 8 3 1\n",
            " 3 1 2 1 2 7 5 3 1 8 6 2 5 9 0 4 4 6 4 8 8 5 3 6 5 7 6 4 1 0 2 4 8 9 6 0 9\n",
            " 6 1 6 7 1 0 6 1 5 7 9 3 3 6 0 6 4 7 7 8 5 9 8 7 2 9 1 8 1 8 6 6 8 2 2 0 4\n",
            " 5 0 5 9 2 8 6 3 5 9 0 1 9 5 6 1 8 7 9 6 0 1 8 5 7 8 6 6 7 7 1 9 6 9 1 0 6\n",
            " 4 1 9 1 6 5 3 8 6 0 5 3 9 2 0 4 7 4 2 7 3 8 2 0 5 9 1 3 3 8 9 8 9 7 5 5 1\n",
            " 9 9 1 4 2 1 7 5 4 6 8 9 5 1 9 1 7 3 2 4 6 8 0 3 7 5 7 8 0 3 1 5 8 7 1 8 8\n",
            " 7 1 3 3 6 5 0 3 6 3 3 3 3 8 6 2 1 9 7 2 3 3 2 1 2 8 0 3 3 0 2 3 4 7 6 9 0\n",
            " 2]\n"
          ]
        },
        {
          "output_type": "execute_result",
          "data": {
            "text/plain": [
              "0.912"
            ]
          },
          "metadata": {},
          "execution_count": 10
        }
      ]
    },
    {
      "cell_type": "markdown",
      "source": [
        "# Publish to Kaggle"
      ],
      "metadata": {
        "id": "VOCVisRtYykG"
      }
    },
    {
      "cell_type": "code",
      "source": [
        "test_predictions = make_predictions(test_data.T, W1, b1, W2, b2)"
      ],
      "metadata": {
        "id": "Fgm0eQSKMpnc"
      },
      "execution_count": null,
      "outputs": []
    },
    {
      "cell_type": "code",
      "source": [
        "img_id = []\n",
        "for i in range(len(test_data)):\n",
        "  img_id.append(i+1)\n",
        "\n",
        "submission = pd.DataFrame([img_id,test_predictions]).T\n",
        "submission.columns = ['ImageId','Label']"
      ],
      "metadata": {
        "id": "0x0o8JhcS3Ih"
      },
      "execution_count": 12,
      "outputs": []
    },
    {
      "cell_type": "code",
      "source": [
        "submission.to_csv('kaggle_submission.csv', index = False)"
      ],
      "metadata": {
        "id": "_nhXm43DU7kw"
      },
      "execution_count": 13,
      "outputs": []
    }
  ]
}